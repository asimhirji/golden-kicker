{
  "nbformat": 4,
  "nbformat_minor": 0,
  "metadata": {
    "colab": {
      "name": "FIFA PROJECT.ipynb",
      "version": "0.3.2",
      "provenance": [],
      "collapsed_sections": []
    },
    "kernelspec": {
      "name": "python3",
      "display_name": "Python 3"
    }
  },
  "cells": [
    {
      "cell_type": "code",
      "metadata": {
        "id": "EOJV2o-8eBmY",
        "colab_type": "code",
        "colab": {}
      },
      "source": [
        "import pandas as pd\n",
        "import csv\n",
        "import numpy as np\n",
        "import nltk\n",
        "import sklearn\n",
        "from sklearn.model_selection import train_test_split\n",
        "import matplotlib.pyplot as plt\n",
        "import seaborn as sns\n",
        "%matplotlib inline\n",
        "\n",
        "file_data = pd.read_csv(\"N_Fifa.csv\")\n",
        "file_data.head()"
      ],
      "execution_count": 0,
      "outputs": []
    },
    {
      "cell_type": "markdown",
      "metadata": {
        "id": "9JkSpsdpib-r",
        "colab_type": "text"
      },
      "source": [
        "Here we are specifying the player stats columns to be the following. These are the majority of player statistics we found in the dataset to be used for further analysis."
      ]
    },
    {
      "cell_type": "code",
      "metadata": {
        "id": "LQUB4XLLgPZ4",
        "colab_type": "code",
        "colab": {}
      },
      "source": [
        "skill_cols = ['Crossing',\n",
        "       'Finishing', 'HeadingAccuracy', 'ShortPassing', 'Volleys', 'Dribbling',\n",
        "       'Curve', 'FKAccuracy', 'LongPassing', 'BallControl', 'Acceleration',\n",
        "       'SprintSpeed', 'Agility', 'Reactions', 'Balance', 'ShotPower',\n",
        "       'Jumping', 'Stamina', 'Strength', 'LongShots', 'Aggression',\n",
        "       'Interceptions', 'Positioning', 'Vision', 'Penalties', 'Composure',\n",
        "       'Marking', 'StandingTackle', 'SlidingTackle', 'GKDiving', 'GKHandling',\n",
        "       'GKKicking', 'GKPositioning', 'GKReflexes']\n",
        "dfskills = file_data[skill_cols]\n",
        "len(dfskills.columns)"
      ],
      "execution_count": 0,
      "outputs": []
    },
    {
      "cell_type": "markdown",
      "metadata": {
        "id": "ylU7439DkT3D",
        "colab_type": "text"
      },
      "source": [
        "Using a heatmap of the entire dataset, we notice that there are variables that are correlated. We are lead to believe that similar variables may have the same impact on player worth as certain others. A method must be implemented to distinguish variables with more weight in the study to further narrow our scope."
      ]
    },
    {
      "cell_type": "code",
      "metadata": {
        "id": "yInx0kFTgU_j",
        "colab_type": "code",
        "colab": {}
      },
      "source": [
        "hist_data = pd.read_csv(\"Fifa_hist.csv\")\n",
        "cordf=hist_data.corr()\n",
        "sns.heatmap(cordf, annot=False, cmap='coolwarm')"
      ],
      "execution_count": 0,
      "outputs": []
    },
    {
      "cell_type": "markdown",
      "metadata": {
        "id": "nql7HiGW2LUw",
        "colab_type": "text"
      },
      "source": [
        "We run a clustermap for our data to further visualize which variables are the most correlated. From the map, it seems that Crossing, BallControl, Special, Vision, Curve, Skill Moves, and Positioning are the most positively correlated with one another. Redundancies may occur in our model of the neural net, so we need to now find a way to limit the scope of the project to a select few variables."
      ]
    },
    {
      "cell_type": "code",
      "metadata": {
        "id": "viLh_PS8gYG6",
        "colab_type": "code",
        "colab": {}
      },
      "source": [
        "sns.clustermap(cordf,cmap='coolwarm',annot=False,standard_scale=1)"
      ],
      "execution_count": 0,
      "outputs": []
    },
    {
      "cell_type": "markdown",
      "metadata": {
        "id": "9xNpjS3q4hT5",
        "colab_type": "text"
      },
      "source": [
        "In order to reduce the dimensions of our dataset and observe which variables are the most important in predicting player worth, principle component analysis is run with 5 dimensions. This will allow us to obtain the top 5 variables that are the most important."
      ]
    },
    {
      "cell_type": "code",
      "metadata": {
        "id": "4YOd4YRhl0EC",
        "colab_type": "code",
        "colab": {}
      },
      "source": [
        "dfskills = fifa[skill_cols]\n",
        "import pandas_profiling\n",
        "pandas_profiling.ProfileReport(dfskills)\n",
        "dfskills.dropna(inplace=True)\n",
        "from sklearn.decomposition import PCA \n",
        "#Scaling \n",
        "scaler = StandardScaler()\n",
        "scaler.fit(dfskills)\n",
        "scaled_data = scaler.transform(dfskills)\n",
        "pca = PCA(n_components=5)\n",
        "x_pca = pca.transform(scaled_data)\n",
        "plt.scatter(x_pca[:,0], x_pca[:,1])\n",
        "plt.xlabel('First Principle Component ')\n",
        "plt.ylabel('Second Principle Component')"
      ],
      "execution_count": 0,
      "outputs": []
    },
    {
      "cell_type": "markdown",
      "metadata": {
        "id": "Egib8fRY72LO",
        "colab_type": "text"
      },
      "source": [
        "Furthermore, we see that we reduce the dimensions of our dataset from 34 to 5."
      ]
    },
    {
      "cell_type": "code",
      "metadata": {
        "id": "1inT3xKx7xyV",
        "colab_type": "code",
        "colab": {}
      },
      "source": [
        "scaled_data.shape"
      ],
      "execution_count": 0,
      "outputs": []
    },
    {
      "cell_type": "code",
      "metadata": {
        "id": "_2BlWIuR7zQw",
        "colab_type": "code",
        "colab": {}
      },
      "source": [
        "x_pca.shape"
      ],
      "execution_count": 0,
      "outputs": []
    },
    {
      "cell_type": "markdown",
      "metadata": {
        "id": "IEr75UbE5AZw",
        "colab_type": "text"
      },
      "source": [
        "Although this plot is not interpretable due to the high number of dimensions, we are able to obtain the weights for all of the PCA component features.\n"
      ]
    },
    {
      "cell_type": "code",
      "metadata": {
        "id": "QVmF32DE4fgW",
        "colab_type": "code",
        "colab": {}
      },
      "source": [
        "# Makes data frame with weights for all the features in the PCA components \n",
        "df_comp = pd.DataFrame(pca.components_, columns = skill_cols)\n",
        "df_comp"
      ],
      "execution_count": 0,
      "outputs": []
    },
    {
      "cell_type": "markdown",
      "metadata": {
        "id": "SENXPz4Y6n7W",
        "colab_type": "text"
      },
      "source": [
        "Now, a weighted average is taken with the feature weights obtained in the previous step in order to determine the top five most important variables. This average is taken since each principle component have different magnitudes and a single one cannot represent one feature entirely. We find that StandingTackle, SlidingTackle, Longshots, Finishing, and Interceptions are the most important variables. These will be used as inputs in the neural network."
      ]
    },
    {
      "cell_type": "code",
      "metadata": {
        "id": "BPA8uz-u5I9w",
        "colab_type": "code",
        "colab": {}
      },
      "source": [
        "vals=[]\n",
        "vals = pca.explained_variance_ratio_\n",
        "df_adjusted  = df_comp.mul(vals, axis=0)\n",
        "absolute_df_adjusted = df_adjusted.abs()\n",
        "rankings = absolute_df_adjusted.sum(axis = 0)\n",
        "rankings.sort_values(ascending=False)"
      ],
      "execution_count": 0,
      "outputs": []
    },
    {
      "cell_type": "markdown",
      "metadata": {
        "id": "Qqud6-mp-JcT",
        "colab_type": "text"
      },
      "source": [
        "We were curious in regards to how these variables differ in the acclaimed top five FIFA teams of 2019. Violin plots are thus made to compare the distribution and means of teams in Belgium, France, Brazil, England, and Croatia. For standing tackles, we observe that Brazil, Croatia, and France are well above the average, whereas Belgium and Croatia are approximately average."
      ]
    },
    {
      "cell_type": "code",
      "metadata": {
        "id": "BPy_1a2e9xSw",
        "colab_type": "code",
        "colab": {}
      },
      "source": [
        "newdf = hist_data[(hist_data['Nationality']=='Belgium') | (hist_data['Nationality']== 'France') | (hist_data['Nationality']=='Brazil') | (hist_data['Nationality']=='England') | (hist_data['Nationality']=='Croatia')]\n",
        "sns.set_style('darkgrid')\n",
        "sns.violinplot(x='Nationality',y='StandingTackle',data=newdf)\n",
        "newdf['StandingTackle'].mean()"
      ],
      "execution_count": 0,
      "outputs": []
    },
    {
      "cell_type": "markdown",
      "metadata": {
        "id": "iM-WBi8rAI6r",
        "colab_type": "text"
      },
      "source": [
        "For sliding tackles, we observe the same pattern as standing tackles. All of these plots seem to be bimodal."
      ]
    },
    {
      "cell_type": "code",
      "metadata": {
        "id": "hCgCqFIwAJJT",
        "colab_type": "code",
        "colab": {}
      },
      "source": [
        "sns.violinplot(x='Nationality',y='SlidingTackle',data=newdf)\n",
        "newdf['SlidingTackle'].mean()"
      ],
      "execution_count": 0,
      "outputs": []
    },
    {
      "cell_type": "markdown",
      "metadata": {
        "id": "HP5hKX5ZAZMs",
        "colab_type": "text"
      },
      "source": [
        "It seems that Brazil and Croatia are dominant in heading accuracy. The plots all seem to be skewed left and slightly bimodal as well."
      ]
    },
    {
      "cell_type": "code",
      "metadata": {
        "id": "gyQIlVL3AYa3",
        "colab_type": "code",
        "colab": {}
      },
      "source": [
        "sns.violinplot(x='Nationality',y='HeadingAccuracy',data=newdf)\n",
        "newdf['HeadingAccuracy'].mean()"
      ],
      "execution_count": 0,
      "outputs": []
    },
    {
      "cell_type": "markdown",
      "metadata": {
        "id": "7ZS7OKf1BKdV",
        "colab_type": "text"
      },
      "source": [
        "For longshots, it seems that Brazil and Belgium are the best and most above average in comparison to the other teams. The distributions seem to be a lot more uniform for these 5 teams as well."
      ]
    },
    {
      "cell_type": "code",
      "metadata": {
        "id": "6oFW9l6gBMLT",
        "colab_type": "code",
        "colab": {}
      },
      "source": [
        "sns.violinplot(x='Nationality',y='LongShots',data=newdf)\n",
        "newdf['LongShots'].mean()"
      ],
      "execution_count": 0,
      "outputs": []
    },
    {
      "cell_type": "markdown",
      "metadata": {
        "id": "VYpGkX9aBbcd",
        "colab_type": "text"
      },
      "source": [
        "The finishing player statistic seems to follow the same distribution and ranking pattern as long shots. Overall, we found it interesting that the distributions for each player statistic were similar for all teams per plot."
      ]
    },
    {
      "cell_type": "code",
      "metadata": {
        "id": "_KrDlRJWBbjc",
        "colab_type": "code",
        "colab": {}
      },
      "source": [
        "sns.violinplot(x='Nationality',y='Finishing',data=newdf)\n",
        "newdf['Finishing'].mean()"
      ],
      "execution_count": 0,
      "outputs": []
    }
  ]
}